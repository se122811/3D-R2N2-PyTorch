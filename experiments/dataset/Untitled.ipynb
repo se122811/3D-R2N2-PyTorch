{
 "cells": [
  {
   "cell_type": "code",
   "execution_count": 2,
   "id": "trying-printing",
   "metadata": {},
   "outputs": [
    {
     "name": "stdout",
     "output_type": "stream",
     "text": [
      "{\n",
      "\t\"04256520\": {\n",
      "\t\t\"id\": \"04256520\",\n",
      "\t\t\"name\": \"sofa,couch,lounge\"\n",
      "\t},\n",
      "\t\"02691156\": {\n",
      "\t\t\"id\": \"02691156\",\n",
      "\t\t\"name\": \"airplane,aeroplane,plane\"\n",
      "\t},\n",
      "\t\"03636649\": {\n",
      "\t\t\"id\": \"03636649\",\n",
      "\t\t\"name\": \"lamp\"\n",
      "\t},\n",
      "\t\"04401088\": {\n",
      "\t\t\"id\": \"04401088\",\n",
      "\t\t\"name\": \"telephone,phone,telephone set\"\n",
      "\t},\n",
      "\t\"04530566\": {\n",
      "\t\t\"id\": \"04530566\",\n",
      "\t\t\"name\": \"vessel,watercraft\"\n",
      "\t},\n",
      "\t\"03691459\": {\n",
      "\t\t\"id\": \"03691459\",\n",
      "\t\t\"name\": \"loudspeaker,speaker,speaker unit,loudspeaker system,speaker system\"\n",
      "\t},\n",
      "\t\"03001627\": {\n",
      "\t\t\"id\": \"03001627\",\n",
      "\t\t\"name\": \"chair\"\n",
      "\t},\n",
      "\t\"02933112\": {\n",
      "\t\t\"id\": \"02933112\",\n",
      "\t\t\"name\": \"cabinet\"\n",
      "\t},\n",
      "\t\"04379243\": {\n",
      "\t\t\"id\": \"04379243\",\n",
      "\t\t\"name\": \"table\"\n",
      "\t},\n",
      "\t\"03211117\": {\n",
      "\t\t\"id\": \"03211117\",\n",
      "\t\t\"name\": \"display,video display\"\n",
      "\t},\n",
      "\t\"02958343\": {\n",
      "\t\t\"id\": \"02958343\",\n",
      "\t\t\"name\": \"car,auto,automobile,machine,motorcar\"\n",
      "\t},\n",
      "\t\"02828884\": {\n",
      "\t\t\"id\": \"02828884\",\n",
      "\t\t\"name\": \"bench\"\n",
      "\t},\n",
      "\t\"04090263\": {\n",
      "\t\t\"id\": \"04090263\",\n",
      "\t\t\"name\": \"rifle\"\n",
      "\t}\n",
      "}\n"
     ]
    }
   ],
   "source": [
    "import json\n",
    "\n",
    "with open('./shapenet_1000.json') as f:\n",
    "    json_data = json.load(f)\n",
    "print(json.dumps(json_data,indent='\\t'))"
   ]
  }
 ],
 "metadata": {
  "kernelspec": {
   "display_name": "Python 3",
   "language": "python",
   "name": "python3"
  },
  "language_info": {
   "codemirror_mode": {
    "name": "ipython",
    "version": 3
   },
   "file_extension": ".py",
   "mimetype": "text/x-python",
   "name": "python",
   "nbconvert_exporter": "python",
   "pygments_lexer": "ipython3",
   "version": "3.6.12"
  }
 },
 "nbformat": 4,
 "nbformat_minor": 5
}
